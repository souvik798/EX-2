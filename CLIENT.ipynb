{
 "cells": [
  {
   "cell_type": "code",
   "execution_count": 1,
   "metadata": {},
   "outputs": [
    {
     "name": "stdout",
     "output_type": "stream",
     "text": [
      "acknowledgement recieved from the server\n"
     ]
    }
   ],
   "source": [
    "## Developed : Kavinraja D\n",
    "## Reg no : 212222240047\n",
    "import socket\n",
    "s=socket.socket()\n",
    "s.bind(('localhost',8000))\n",
    "s.listen(5)\n",
    "c,addr=s.accept()\n",
    "size=int(input(\"Enter number of frames to send:\"))\n",
    "l=list(range(size))\n",
    "s=int(input(\"Enter Window Size:\"))\n",
    "st=0\n",
    "i=0\n",
    "while True:\n",
    "\twhile(i<len(l)):\n",
    "\t\tst+=s\n",
    "\t\tc.send(str(l[i:st]).encode())\n",
    "\t\tack=c.recv(1024).decode()\n",
    "\t\tif ack:\n",
    "\t\t\tprint(ack)\n",
    "\t\t\ti+=s"
   ]
  }
 ],
 "metadata": {
  "kernelspec": {
   "display_name": "Python 3",
   "language": "python",
   "name": "python3"
  },
  "language_info": {
   "codemirror_mode": {
    "name": "ipython",
    "version": 3
   },
   "file_extension": ".py",
   "mimetype": "text/x-python",
   "name": "python",
   "nbconvert_exporter": "python",
   "pygments_lexer": "ipython3",
   "version": "3.11.0"
  },
  "orig_nbformat": 4
 },
 "nbformat": 4,
 "nbformat_minor": 2
}
